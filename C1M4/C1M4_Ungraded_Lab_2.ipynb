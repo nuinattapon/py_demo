{
 "cells": [
  {
   "cell_type": "markdown",
   "id": "07b525d8-e037-42a6-a719-af450f644457",
   "metadata": {},
   "source": [
    "# Ungraded Lab: Prompt Engineering\n",
    "\n",
    "\n",
    "## 1. Introduction\n",
    "\n",
    "Welcome to the ungraded lab on Prompt Engineering! In this lab you will explore some prompt techniques to help adjust the LLM to your needs. Mainly in this lab you will:\n",
    "\n",
    "\n",
    "1. Learn how to make an LLM generate specific outputs, such as labeling a sentence \n",
    "2. Make an LLM call with different parameters depending on the task nature of the prompt\n",
    "3. Make an LLM return a specific object type in its response, like a JSON\n",
    "\n",
    "\n",
    "### 1.1 Importing the libraries"
   ]
  },
  {
   "cell_type": "markdown",
   "id": "a6310d30",
   "metadata": {},
   "source": [
    "\n",
    "# Table of Contents\n",
    "- [ 1 - Text Classification with LLMs](#1)\n",
    "- [ 2 - Parameter Setting Based on Tasks](#2)\n",
    "- [ 3 - Guiding the LLM to Output Specific Objects](#3)\n"
   ]
  },
  {
   "cell_type": "code",
   "execution_count": 1,
   "id": "d583688d",
   "metadata": {},
   "outputs": [
    {
     "data": {
      "text/plain": [
       "True"
      ]
     },
     "execution_count": 1,
     "metadata": {},
     "output_type": "execute_result"
    }
   ],
   "source": [
    "from dotenv import load_dotenv\n",
    "load_dotenv()"
   ]
  },
  {
   "cell_type": "code",
   "execution_count": 2,
   "id": "93da5e74-3892-493a-b315-aa148249deb8",
   "metadata": {
    "tags": []
   },
   "outputs": [],
   "source": [
    "from utils import (\n",
    "    generate_with_single_input, \n",
    "    generate_with_multiple_input, \n",
    "    generate_params_dict\n",
    ")"
   ]
  },
  {
   "cell_type": "markdown",
   "id": "01441040-866e-4809-9f28-3d050b723173",
   "metadata": {},
   "source": [
    "<a id='1'></a>\n",
    "## 1 - Text Classification with LLMs\n",
    "\n",
    "An interesting and practical application of language models (LLMs) is transforming them into text classifiers. With good instructions, you can guide an LLM to categorize text based on sentiment, task type, and more. Since classifiers typically output fixed labels (such as 1 for positive and 0 for negative), you need to construct a prompt that minimizes the likelihood of the LLM producing unexpected outputs. Besides designing a robust prompt, implementing checks in your code is something to consider to avoid potential issues, such as a function later in the process expecting values of 1 or 0 but receiving an unexpected value like 2 or a phrase such as \"positive sentence.\" This combination of strategies ensures reliable classification results while maintaining flexibility in handling unforeseen outputs.\n",
    "\n",
    "To illustrate, let's suppose you are developing a chatbot for a company that sells sport outfits and nutritional supplements. The idea is to make an LLM decide if the query is related to outfits or nutrition. This might be useful to redirect your LLM to the correct database to query from.\n",
    "\n",
    "1. Be precise. You need to explain exactly what you want it to do and output.\n",
    "2. Add examples. Create examples with their expected result.\n",
    "3. You might add also edgy examples, i.e., examples that you know that might be hard for the LLM to properly decide."
   ]
  },
  {
   "cell_type": "code",
   "execution_count": 3,
   "id": "3add5e37-c3e0-4d47-a767-ede4705b57b8",
   "metadata": {
    "tags": []
   },
   "outputs": [],
   "source": [
    "def check_if_outfit_or_supplement(query):\n",
    "    prompt = f\"\"\"\n",
    "Determine the category of the following query as either \"nutritional\" or \"outfit\" related.\n",
    "- Nutritional queries: These are related to nutrition products, such as whey protein, vitamins, supplements, dietary products, and health-related food and beverages.\n",
    "  - Outfit queries: These pertain to clothing and fashion, including items like shirts, dresses, shoes, accessories, and jewelry.\n",
    "Examples:\n",
    "\n",
    "1. Query: “Where can I buy high-protein snacks?” Expected answer: Nutritional\n",
    "2. Query: “Best shirt styles for summer 2023” Expected answer: Outfit\n",
    "3. Query: “Are there any shoes designed for running?” Expected answer: Outfit\n",
    "4. Query: “What multivitamins should I take daily?” Expected answer: Nutritional\n",
    "5. Query: “Best weight loss products that are stylish” Expected answer: Nutritional\n",
    "6. Query: “Athletic wear that boosts performance” Expected answer: Outfit \n",
    "\n",
    "Query: {query}\n",
    "\n",
    "Instructions: Respond with “Nutritional” if the query pertains to nutritional products or “Outfit” if it pertains to clothing or fashion products.\n",
    "Answer only one single word.\n",
    "\"\"\"\n",
    "    return prompt\n",
    "    "
   ]
  },
  {
   "cell_type": "code",
   "execution_count": 4,
   "id": "74f657d7-d051-469e-a9f4-1723c2f1570a",
   "metadata": {
    "tags": []
   },
   "outputs": [
    {
     "data": {
      "text/plain": [
       "{'role': 'assistant', 'content': 'Nutritional'}"
      ]
     },
     "execution_count": 4,
     "metadata": {},
     "output_type": "execute_result"
    }
   ],
   "source": [
    "# Testing a simple query\n",
    "query = \"Give me the available vitamins supplement you have in your catalogue.\"\n",
    "generate_with_single_input(check_if_outfit_or_supplement(query), max_tokens = 2)"
   ]
  },
  {
   "cell_type": "markdown",
   "id": "08683b1a-f845-4cfe-a709-25fc87390574",
   "metadata": {},
   "source": [
    "Now let's test in a bigger set."
   ]
  },
  {
   "cell_type": "code",
   "execution_count": 5,
   "id": "4a715a9a-ce83-413b-bf10-cabcdd6aa32b",
   "metadata": {
    "tags": []
   },
   "outputs": [
    {
     "name": "stdout",
     "output_type": "stream",
     "text": [
      "Query: Where can I buy whey protein?\n",
      "Result: Nutritional\n",
      "Expected: \u001b[92mNutritional\u001b[0m\n",
      "\n",
      "Query: Recommended vitamins for winter\n",
      "Result: Nutritional\n",
      "Expected: \u001b[92mNutritional\u001b[0m\n",
      "\n",
      "Query: Latest fashion for women's dresses\n",
      "Result: Outfit\n",
      "Expected: \u001b[92mOutfit\u001b[0m\n",
      "\n",
      "Query: Comfortable sneakers for daily use\n",
      "Result: Outfit\n",
      "Expected: \u001b[92mOutfit\u001b[0m\n",
      "\n",
      "Query: Best energy bars for athletes\n",
      "Result: Nutritional\n",
      "Expected: \u001b[92mNutritional\u001b[0m\n",
      "\n",
      "Query: Trendy accessories for men\n",
      "Result: Outfit\n",
      "Expected: \u001b[92mOutfit\u001b[0m\n",
      "\n",
      "Query: Low-carb diet food options\n",
      "Result: Nutritional\n",
      "Expected: \u001b[92mNutritional\u001b[0m\n",
      "\n",
      "Query: What supplements help with muscle recovery?\n",
      "Result: Nutritional\n",
      "Expected: \u001b[92mNutritional\u001b[0m\n",
      "\n",
      "Query: Casual wear that supports healthy living\n",
      "Result: Outfit\n",
      "Expected: \u001b[92mOutfit\u001b[0m\n",
      "\n"
     ]
    }
   ],
   "source": [
    "# ASCII color codes\n",
    "GREEN = '\\033[92m'\n",
    "RED = '\\033[91m'\n",
    "RESET = '\\033[0m'\n",
    "\n",
    "queries = [\n",
    "    {\"query\": \"Where can I buy whey protein?\", \"label\": \"Nutritional\"},\n",
    "    {\"query\": \"Recommended vitamins for winter\", \"label\": \"Nutritional\"},\n",
    "    {\"query\": \"Latest fashion for women's dresses\", \"label\": \"Outfit\"},\n",
    "    {\"query\": \"Comfortable sneakers for daily use\", \"label\": \"Outfit\"},\n",
    "    {\"query\": \"Best energy bars for athletes\", \"label\": \"Nutritional\"},\n",
    "    {\"query\": \"Trendy accessories for men\", \"label\": \"Outfit\"},\n",
    "    {\"query\": \"Low-carb diet food options\", \"label\": \"Nutritional\"},\n",
    "    {\"query\": \"What supplements help with muscle recovery?\", \"label\": \"Nutritional\"},\n",
    "    {\"query\": \"Casual wear that supports healthy living\", \"label\": \"Outfit\"}\n",
    "]\n",
    "\n",
    "for item in queries:\n",
    "    query = item[\"query\"]\n",
    "    prompt = check_if_outfit_or_supplement(query)\n",
    "    expected_label = item[\"label\"]\n",
    "    response = generate_with_single_input(prompt, max_tokens = 2)\n",
    "    result = response['content']\n",
    "    \n",
    "    # Determine color based on comparison\n",
    "    if result == expected_label:\n",
    "        color = GREEN\n",
    "    else:\n",
    "        color = RED\n",
    "\n",
    "    print(f\"Query: {query}\\nResult: {result}\\nExpected: {color}{expected_label}{RESET}\\n\")\n",
    "    "
   ]
  },
  {
   "cell_type": "markdown",
   "id": "c6ded033-4bd5-4874-ba13-e90335bc6ee1",
   "metadata": {},
   "source": [
    "<a id='2'></a>\n",
    "## 2 - Parameter Setting Based on Tasks\n",
    "\n",
    "In this section, you will learn how to adjust your LLM interactions to be flexible, allowing you to control its behavior based on the nature of the task. This involves determining the nature of the query before requesting the LLM to respond. \n",
    "\n",
    "In this exercise, let's develop a function to categorize a query as either technical or creative. Once categorized, you can apply different parameters suited for each task type. Technical queries generally benefit from lower randomness, whereas creative tasks may benefit from allowing higher randomness."
   ]
  },
  {
   "cell_type": "code",
   "execution_count": 6,
   "id": "6f49554d-3dee-439e-aabe-1ca603ef2c63",
   "metadata": {
    "tags": []
   },
   "outputs": [],
   "source": [
    "def decide_if_technical_or_creative(query):\n",
    "    \"\"\"\n",
    "    Determines whether a given query is creative or technical in nature.\n",
    "\n",
    "    Args:\n",
    "        query (str): The query string to be evaluated.\n",
    "\n",
    "    Returns:\n",
    "        str: A label indicating the query type, either 'creative' or 'technical'.\n",
    "\n",
    "    This function constructs a prompt to classify a query based on its content. \n",
    "    Creative queries typically involve requests to generate original content, whereas \n",
    "    technical queries relate to documentation or technical information, such as procedures.\n",
    "    By leveraging an LLM, it identifies the query type and returns an appropriate label.\n",
    "    \"\"\"\n",
    "    \n",
    "    PROMPT = f\"\"\"Decide if the following query is a creative query or a technical query.\n",
    "    Creative queries ask you to create content, while technical queries are related to documentation or technical requests, like information about procedures.\n",
    "    Answer only 'creative' or 'technical'.\n",
    "    Query: {query}\n",
    "    \"\"\"\n",
    "    result = generate_with_single_input(PROMPT)\n",
    "    label = result['content']\n",
    "    return label"
   ]
  },
  {
   "cell_type": "code",
   "execution_count": 7,
   "id": "6bcb9099-cea9-43e3-90be-517a4e14acb9",
   "metadata": {
    "tags": []
   },
   "outputs": [
    {
     "name": "stdout",
     "output_type": "stream",
     "text": [
      "Query: What is Pi-hole?, label: technical\n",
      "Query: Suggest to me three places to visit in South America, label: creative\n"
     ]
    }
   ],
   "source": [
    "queries = [\"What is Pi-hole?\", \n",
    "           \"Suggest to me three places to visit in South America\"]\n",
    "for query in queries:\n",
    "    label =decide_if_technical_or_creative(query)\n",
    "    print(f\"Query: {query}, label: {label}\")"
   ]
  },
  {
   "cell_type": "code",
   "execution_count": 8,
   "id": "34c2a019-b651-4620-85bc-6551ebf0a34b",
   "metadata": {
    "tags": []
   },
   "outputs": [],
   "source": [
    "def answer_query(query):\n",
    "    \"\"\"\n",
    "    Processes a query and generates an appropriate response by categorizing the query\n",
    "    as either 'technical' or 'creative', and modifies behavior based on this categorization.\n",
    "\n",
    "    Args:\n",
    "        query (str): The query string to be answered.\n",
    "\n",
    "    Returns:\n",
    "        str: A generated response from the LLM tailored to the nature of the query.\n",
    "\n",
    "    This function first determines the nature of the query using the `decide_if_technical_or_creative` function. \n",
    "    If the query is classified as 'technical', it sets parameters suitable for precise and low-variability responses. \n",
    "    If the query is 'creative', it applies parameters allowing for more variability and creativity. \n",
    "    If the classification is inconclusive, it uses neutral parameters. \n",
    "    It then generates a response using these parameters and returns the content.\n",
    "    \"\"\"\n",
    "    \n",
    "    # Determine whether the query is 'technical' or 'creative'\n",
    "    label = decide_if_technical_or_creative(query).lower()\n",
    "\n",
    "    # Set parameters for technical queries (precise, low randomness)\n",
    "    if label == 'technical':\n",
    "        kwargs = generate_params_dict(query, temperature=0, top_p=0.1)\n",
    "    \n",
    "    # Set parameters for creative queries (variable, high randomness)\n",
    "    elif label == 'creative':\n",
    "        kwargs = generate_params_dict(query, temperature=1.1, top_p=0.4)\n",
    "\n",
    "    # Use default parameters if the query type is inconclusive\n",
    "    else:\n",
    "        kwargs = generate_params_dict(query, temperature=0.5, top_p=0.5)\n",
    "    \n",
    "    # Generate a response based on the query type and parameters\n",
    "    response = generate_with_single_input(**kwargs)\n",
    "    \n",
    "    # Extract and return the content from the response\n",
    "    result = response['content']\n",
    "    return result"
   ]
  },
  {
   "cell_type": "code",
   "execution_count": 9,
   "id": "a823aac3-40be-448d-bc3e-1471daefe9b8",
   "metadata": {
    "tags": []
   },
   "outputs": [
    {
     "name": "stdout",
     "output_type": "stream",
     "text": [
      "Query: What is Pi-hole?\n",
      "Answer: Pi-hole is a free, open-source, and self-contained ad-blocking DNS server that can be run on a Raspberry Pi or other single-board computers. It's designed to block ads, trackers, and other unwanted content on your network, providing a more private and secure browsing experience.\n",
      "\n",
      "Here's how it works:\n",
      "\n",
      "1. You install Pi-hole on a Raspberry Pi or other compatible device.\n",
      "2. The device runs a custom operating system, such as Raspbian, and loads the Pi-hole software.\n",
      "3. Pi-hole sets up a DNS server that intercepts all DNS queries on your network.\n",
      "4. When a device on your network requests a website, Pi-hole checks the requested domain against its database of blocked ads and trackers.\n",
      "5. If the domain is found in the blocklist, Pi-hole returns a fake IP address that is not associated with any website, effectively blocking the ad or tracker.\n",
      "6. The device on your network receives the fake IP address and displays the requested website without the ad or tracker.\n",
      "\n",
      "Pi-hole can be configured to block a wide range of ad types, including:\n",
      "\n",
      "* Display ads (e.g., Google AdSense)\n",
      "* Pop-ups and pop-unders\n",
      "* Tracking scripts (e.g., Google Analytics)\n",
      "* Malware and phishing sites\n",
      "\n",
      "Pi-hole also provides additional features, such as:\n",
      "\n",
      "* Whitelisting: allowing specific domains or IP addresses to bypass the blocklist\n",
      "* Blacklisting: allowing specific domains or IP addresses to be blocked\n",
      "* DNS tunneling: allowing encrypted DNS queries to bypass firewalls and other network restrictions\n",
      "* Logging: providing detailed logs of blocked requests and network activity\n",
      "\n",
      "Pi-hole is a popular choice for home networks, small businesses, and organizations looking to improve their online security and reduce ad clutter.\n",
      "\n",
      "#######\n",
      "\n",
      "Query: Suggest to me three places to visit in South America\n",
      "Answer: South America is a vast and diverse continent, offering countless exciting destinations to explore. Here are three places to consider visiting:\n",
      "\n",
      "1. **Machu Picchu, Peru**: This ancient Inca city is one of the most famous and mysterious sites in South America. Perched on a mountain ridge over 2,400 meters above sea level, Machu Picchu is a breathtaking example of Inca engineering and architecture. The site is steeped in history and mythology, and its stunning natural surroundings make it a must-visit destination.\n",
      "\n",
      "2. **Iguazu Falls, Argentina/Brazil**: Located on the border of Argentina and Brazil, Iguazu Falls is one of the world's most spectacular waterfalls. The falls consist of over 275 individual cascades, spanning almost 2 kilometers in length. Visitors can hike, take a boat tour, or simply marvel at the sheer power and beauty of the falls.\n",
      "\n",
      "3. **Rio de Janeiro, Brazil**: Known for its vibrant culture, stunning beaches, and iconic landmarks like Christ the Redeemer and Sugarloaf Mountain, Rio de Janeiro is a city that embodies the spirit of South America. Visitors can enjoy the city's famous Carnival celebrations, take a cable car ride to the top of Sugarloaf Mountain, or simply soak up the sun on Copacabana and Ipanema beaches.\n",
      "\n",
      "These are just a few examples of the many incredible destinations South America has to offer. Each place has its unique charm, history, and natural beauty, making it a fascinating and unforgettable experience for travelers.\n",
      "\n",
      "#######\n",
      "\n"
     ]
    }
   ],
   "source": [
    "queries = [\"What is Pi-hole?\", \n",
    "           \"Suggest to me three places to visit in South America\"]\n",
    "for query in queries:\n",
    "    result = answer_query(query)\n",
    "    print(f\"Query: {query}\\nAnswer: {result}\\n\\n#######\\n\")"
   ]
  },
  {
   "cell_type": "markdown",
   "id": "fe299720-f2a5-4b5d-af12-38271578b3e6",
   "metadata": {},
   "source": [
    "<a id='3'></a>\n",
    "## 3 - Guiding the LLM to Output Specific Objects\n",
    "\n",
    "In this section, you'll explore how to make the LLM generate outputs in specific formats, such as JSON, which can be used by another application. This is a crucial aspect when working with an LLM, as applications often require data in precise formats.\n",
    "\n",
    "Let's imagine you're automating your home and want to create your personal assistant to control devices like lights and sound systems. The goal is to translate a user's request into a specific format that your home automation server can understand.\n",
    "\n",
    "In this hypothetical scenario, the format for each action is a JSON structure containing details like this:\n",
    "\n",
    "```json\n",
    "{\n",
    "  \"room\": \"room where the action will occur\",\n",
    "  \"object_id\": \"unique identifier of the targeted object\",\n",
    "  \"object_name\": \"name of the object\",\n",
    "  \"action\": \"action to be performed\",\n",
    "  \"parameters\": \"dictionary containing action-specific parameters\"\n",
    "}\n",
    "```\n",
    "\n",
    "For instance, to turn on the office light and set its color to yellow, you should provide the following JSON to the software:\n",
    "\n",
    "```json\n",
    "{\n",
    "  \"room\": \"office\",\n",
    "  \"object_id\": \"152\",\n",
    "  \"object_name\": \"office_light\",\n",
    "  \"action\": \"turn on\",\n",
    "  \"parameters\": {\"color\": \"yellow\"}\n",
    "}\n",
    "```\n",
    "\n",
    "\n",
    "### 3.1 The Old-Fashioned Way  \n",
    "\n",
    "Let's start with the old-fashioned way by creating a detailed prompt to pass to the LLM.\n",
    "\n",
    "The following prompt example offers a comprehensive structure. Note how incorporating the JSON format is essential to prevent errors with `f-string` syntax. \n",
    "\n",
    "**NOTE**: Creating effective prompts often involves a great deal of experimentation. It's a natural part of the creative process to assess the outputs generated by different prompts, identify potential flaws, and make necessary adjustments to refine them."
   ]
  },
  {
   "cell_type": "code",
   "execution_count": 10,
   "id": "44703e26-d2dd-4774-bb31-b9e31bcc929c",
   "metadata": {
    "tags": []
   },
   "outputs": [],
   "source": [
    "def generate_system_call(command):\n",
    "    PROMPT = f\"\"\"\n",
    "You are an assistant program that converts natural language commands into structured JSON for controlling smart home devices. The JSON should conform to a specific format describing the device, action, and parameters. Here's how you can do it:\n",
    "\n",
    "**Available Devices and Actions:**\n",
    "\n",
    "1. **Light**\n",
    "   - Actions: \"turn on\", \"turn off\"\n",
    "   - Parameters: color, intensity (percentage)\n",
    "\n",
    "2. **Automatic Lock**\n",
    "   - Actions: \"lock\", \"unlock\"\n",
    "   - Parameters: None\n",
    "\n",
    "3. **Sound System (Speaker)**\n",
    "   - Actions: \"play\", \"pause\", \"stop\", \"set volume\"\n",
    "   - Parameters: volume (integer), track (string), playlist_style (string)\n",
    "\n",
    "4. **TV**\n",
    "   - Actions: \"turn on\", \"turn off\", \"change channel\", \"adjust volume\"\n",
    "   - Parameters: channel (string), volume (integer)\n",
    "\n",
    "5. **Air Conditioner**\n",
    "   - Actions: \"turn on\", \"turn off\", \"set temperature\", \"adjust fan speed\"\n",
    "   - Parameters: temperature (integer), fan_speed (low/medium/high)\n",
    "\n",
    "**Rooms and Devices:**\n",
    "- **Office**\n",
    "  - Lights: \"office_light_1\" (ID: 123), \"office_light_2\" (ID: 321)\n",
    "  - Automatic Lock: \"office_door_lock\" (ID: 111)\n",
    "\n",
    "- **Living Room**\n",
    "  - Light: \"living_room_light\" (ID: 222)\n",
    "  - Speaker: \"living_room_speaker\" (ID: 223)\n",
    "  - Air Conditioner: \"living_room_airconditioner\" (ID: 556)\n",
    "\n",
    "- **Kitchen**\n",
    "  - Light: \"kitchen_light\" (ID: 333)\n",
    "\n",
    "- **Bedroom**\n",
    "  - Light: \"bedroom_light\" (ID: 444)\n",
    "  - TV: \"bedroom_tv\" (ID: 445)\n",
    "\n",
    "- **Bathroom**\n",
    "  - Light: \"bathroom_light\" (ID: 555)\n",
    "\n",
    "**Task:**\n",
    "Convert the following natural language command into the structured JSON format based on the available devices:\n",
    "\n",
    "**Input Examples:**\n",
    "\n",
    "1. \"Turn on the office light with ID 123 with blue color and 50% intensity.\"\n",
    "   - JSON:\n",
    "     [\n",
    "     {{\n",
    "       \"room\": \"office\",\n",
    "       \"object_id\": \"123\",\n",
    "       \"object_name\": \"office_light_1\",\n",
    "       \"action\": \"turn on\",\n",
    "       \"parameters\": {{\"color\": \"blue\", \"intensity\": \"50%\"}}\n",
    "     }}\n",
    "     ]\n",
    "\n",
    "2. \"Lock the office door.\"\n",
    "   - JSON:\n",
    "   [\n",
    "     {{\n",
    "       \"room\": \"office\",\n",
    "       \"object_id\": \"111\",\n",
    "       \"object_name\": \"office_door_lock\",\n",
    "       \"action\": \"lock\",\n",
    "       \"parameters\": {{}}\n",
    "     }}\n",
    "    ]\n",
    "\n",
    "2. \"Make my living room a cheerful place\"\n",
    "   - JSON:\n",
    "   [\n",
    "     {{\n",
    "       \"room\": \"living_room\",\n",
    "       \"object_id\": \"222\",\n",
    "       \"object_name\": \"living_room_light\",\n",
    "       \"action\": \"turn on\",\n",
    "       \"parameters\": {{'intensity': '80%', 'color':'yellow'}}\n",
    "     }},\n",
    "     {{\n",
    "       \"room\": \"living_room\",\n",
    "       \"object_id\": \"223\",\n",
    "       \"object_name\": \"living_room_speaker\",\n",
    "       \"action\": \"turn on\",\n",
    "       \"parameters\": {{'volume': '100', 'playlist_style':'party'}}\n",
    "     }},\n",
    "     \n",
    "   ]\n",
    "\n",
    "**Note:**\n",
    "- Ensure that each JSON object correctly maps the natural command to the appropriate device and action using the listed device ID.\n",
    "- Use the object ID to differentiate between devices when the room contains multiple similar items.\n",
    "- You can add more than one parameter in the parameters dictionary.\n",
    "\n",
    "Using this information, translate the following command into JSON: \"{command}\". Output a list with all the necessary JSONs. \n",
    "Always output a list even if there is only one command to be applied, do not output anything else but the desired structure.\n",
    "\"\"\"\n",
    "    kwargs = generate_params_dict(PROMPT, temperature=0.4, top_p=0.1)\n",
    "    result = generate_with_single_input(**kwargs)\n",
    "    return result['content']"
   ]
  },
  {
   "cell_type": "code",
   "execution_count": 11,
   "id": "1f414116-4cb3-4983-8ad1-a86b53da6d7a",
   "metadata": {
    "tags": []
   },
   "outputs": [
    {
     "name": "stdout",
     "output_type": "stream",
     "text": [
      "[\n",
      "  {\n",
      "    \"room\": \"living_room\",\n",
      "    \"object_id\": \"223\",\n",
      "    \"object_name\": \"living_room_speaker\",\n",
      "    \"action\": \"play\",\n",
      "    \"parameters\": {\n",
      "      \"volume\": \"100\",\n",
      "      \"playlist_style\": \"chill\"\n",
      "    }\n",
      "  },\n",
      "  {\n",
      "    \"room\": \"living_room\",\n",
      "    \"object_id\": \"223\",\n",
      "    \"object_name\": \"living_room_speaker\",\n",
      "    \"action\": \"adjust volume\",\n",
      "    \"parameters\": {\n",
      "      \"volume\": \"100\"\n",
      "    }\n",
      "  }\n",
      "]\n"
     ]
    }
   ],
   "source": [
    "print(generate_system_call(\"Play a chill playlist very loud\"))"
   ]
  },
  {
   "cell_type": "code",
   "execution_count": 12,
   "id": "7905f37d-5bf7-455d-9ccd-a1ab6d4b5021",
   "metadata": {
    "tags": []
   },
   "outputs": [
    {
     "name": "stdout",
     "output_type": "stream",
     "text": [
      "[\n",
      "  {\n",
      "    \"room\": \"living_room\",\n",
      "    \"object_id\": \"222\",\n",
      "    \"object_name\": \"living_room_light\",\n",
      "    \"action\": \"turn on\",\n",
      "    \"parameters\": {'intensity': '80%', 'color':'yellow'}\n",
      "  },\n",
      "  {\n",
      "    \"room\": \"living_room\",\n",
      "    \"object_id\": \"223\",\n",
      "    \"object_name\": \"living_room_speaker\",\n",
      "    \"action\": \"turn on\",\n",
      "    \"parameters\": {'volume': '100', 'playlist_style':'relaxing'}\n",
      "  },\n",
      "  {\n",
      "    \"room\": \"living_room\",\n",
      "    \"object_id\": \"556\",\n",
      "    \"object_name\": \"living_room_airconditioner\",\n",
      "    \"action\": \"set temperature\",\n",
      "    \"parameters\": {'temperature': '18', 'fan_speed': 'low'}\n",
      "  }\n",
      "]\n"
     ]
    }
   ],
   "source": [
    "print(generate_system_call(\"I'm tired today, please make my living room a very cozy ambient, it is really cold today too.\"))"
   ]
  },
  {
   "cell_type": "markdown",
   "id": "9a34084d-bc33-49fa-a727-6914ade8495d",
   "metadata": {},
   "source": [
    "### 3.2 Using LLM structured output parameter\n",
    "\n",
    "It is possible to force the LLM to output a JSON using [Pydantic](https://docs.pydantic.dev/latest/) to help it validate the data structure, so you make sure that the output is always a JSON! \n",
    "\n",
    "Let's see an example below!"
   ]
  },
  {
   "cell_type": "code",
   "execution_count": 13,
   "id": "b1476659-5138-4a83-9c69-34548e56bcda",
   "metadata": {
    "tags": []
   },
   "outputs": [],
   "source": [
    "from pydantic import BaseModel, validator, conint, Field\n",
    "from typing import Literal, Union, Optional, List\n",
    "import json\n",
    "\n",
    "# Define the schema for the output\n",
    "class VoiceNote(BaseModel):\n",
    "    title: str = Field(description=\"A title for the voice note\")\n",
    "    summary: str = Field(description=\"A short one sentence summary of the voice note.\")\n",
    "    actionItems: list[str] = Field(\n",
    "        description=\"A list of action items from the voice note\"\n",
    "    )\n"
   ]
  },
  {
   "cell_type": "code",
   "execution_count": 14,
   "id": "6500d419-5f35-43e3-8efa-7faacc1a8ca5",
   "metadata": {
    "tags": []
   },
   "outputs": [
    {
     "name": "stdout",
     "output_type": "stream",
     "text": [
      "{\n",
      "  \"title\": \"Morning Routine\",\n",
      "  \"summary\": \"Waking up at 7:00 AM, planning a quick breakfast of scrambled eggs and toast with coffee, and checking emails for any urgent messages.\",\n",
      "  \"actionItems\": [\n",
      "    \"Prepare breakfast\",\n",
      "    \"Check emails for urgency\"\n",
      "  ]\n",
      "}\n"
     ]
    }
   ],
   "source": [
    "transcript = (\n",
    "        \"Good morning! It's 7:00 AM, and I'm just waking up. Today is going to be a busy day, \"\n",
    "        \"so let's get started. First, I need to make a quick breakfast. I think I'll have some \"\n",
    "        \"scrambled eggs and toast with a cup of coffee. While I'm cooking, I'll also check my \"\n",
    "        \"emails to see if there's anything urgent.\"\n",
    "    )\n",
    "\n",
    "\n",
    "messages=[\n",
    "            {\n",
    "                \"role\": \"system\",\n",
    "                \"content\": \"The following is a voice message transcript. Only answer in JSON.\",\n",
    "            },\n",
    "            {\n",
    "                \"role\": \"user\",\n",
    "                \"content\": transcript,\n",
    "            },\n",
    "        ]\n",
    "\n",
    "response_format={\n",
    "            \"type\": \"json_schema\",\n",
    "            \"schema\": VoiceNote.model_json_schema(),\n",
    "        }\n",
    "\n",
    "result = generate_with_multiple_input(messages, response_format = response_format)\n",
    "result_json = json.loads(result['content'])\n",
    "print(json.dumps(result_json, indent=2))"
   ]
  },
  {
   "cell_type": "markdown",
   "id": "1ea53192-24ae-4f4d-8265-81dc75ce7660",
   "metadata": {},
   "source": [
    "Keep it up! You finished the ungraded lab on Prompt Engineering!"
   ]
  }
 ],
 "metadata": {
  "kernelspec": {
   "display_name": ".venv",
   "language": "python",
   "name": "python3"
  },
  "language_info": {
   "codemirror_mode": {
    "name": "ipython",
    "version": 3
   },
   "file_extension": ".py",
   "mimetype": "text/x-python",
   "name": "python",
   "nbconvert_exporter": "python",
   "pygments_lexer": "ipython3",
   "version": "3.13.7"
  }
 },
 "nbformat": 4,
 "nbformat_minor": 5
}
