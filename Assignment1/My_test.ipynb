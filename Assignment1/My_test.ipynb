{
 "cells": [
  {
   "cell_type": "code",
   "execution_count": 2,
   "id": "d8cf2a87",
   "metadata": {},
   "outputs": [],
   "source": [
    "import pandas as pd"
   ]
  },
  {
   "cell_type": "code",
   "execution_count": 3,
   "id": "29e66684",
   "metadata": {},
   "outputs": [],
   "source": [
    "df = pd.read_csv(\"news_data_dedup.csv\")"
   ]
  },
  {
   "cell_type": "code",
   "execution_count": 9,
   "id": "d4dfd80a",
   "metadata": {},
   "outputs": [
    {
     "data": {
      "text/html": [
       "<div>\n",
       "<style scoped>\n",
       "    .dataframe tbody tr th:only-of-type {\n",
       "        vertical-align: middle;\n",
       "    }\n",
       "\n",
       "    .dataframe tbody tr th {\n",
       "        vertical-align: top;\n",
       "    }\n",
       "\n",
       "    .dataframe thead th {\n",
       "        text-align: right;\n",
       "    }\n",
       "</style>\n",
       "<table border=\"1\" class=\"dataframe\">\n",
       "  <thead>\n",
       "    <tr style=\"text-align: right;\">\n",
       "      <th></th>\n",
       "      <th>guid</th>\n",
       "      <th>title</th>\n",
       "      <th>description</th>\n",
       "      <th>venue</th>\n",
       "      <th>url</th>\n",
       "      <th>published_at</th>\n",
       "      <th>updated_at</th>\n",
       "    </tr>\n",
       "  </thead>\n",
       "  <tbody>\n",
       "    <tr>\n",
       "      <th>0</th>\n",
       "      <td>e3dc5caa18f9a16d7edcc09f8d5c2bb4</td>\n",
       "      <td>Harvey Weinstein's 2020 rape conviction overtu...</td>\n",
       "      <td>Victims group describes the New York appeal co...</td>\n",
       "      <td>BBC</td>\n",
       "      <td>https://www.bbc.co.uk/news/world-us-canada-688...</td>\n",
       "      <td>2024-04-25 18:24:04+00</td>\n",
       "      <td>2024-04-26 20:03:00.628113+00</td>\n",
       "    </tr>\n",
       "    <tr>\n",
       "      <th>1</th>\n",
       "      <td>297b7152cd95e80dd200a8e1997e10d9</td>\n",
       "      <td>Police and activists clash on Atlanta campus a...</td>\n",
       "      <td>Meanwhile, hundreds of students march in Washi...</td>\n",
       "      <td>BBC</td>\n",
       "      <td>https://www.bbc.co.uk/news/live/world-us-canad...</td>\n",
       "      <td>2024-04-25 13:40:25+00</td>\n",
       "      <td>2024-04-26 20:03:00.654819+00</td>\n",
       "    </tr>\n",
       "    <tr>\n",
       "      <th>2</th>\n",
       "      <td>170bd18d1635c44b9339bdbaf1e62123</td>\n",
       "      <td>Haiti PM resigns as transitional council sworn in</td>\n",
       "      <td>The council will try to restore order and form...</td>\n",
       "      <td>BBC</td>\n",
       "      <td>https://www.bbc.co.uk/news/world-latin-america...</td>\n",
       "      <td>2024-04-25 18:11:02+00</td>\n",
       "      <td>2024-04-26 20:03:00.663393+00</td>\n",
       "    </tr>\n",
       "    <tr>\n",
       "      <th>3</th>\n",
       "      <td>e696224ac208878a5cec8bdc9f97c632</td>\n",
       "      <td>Europe risks dying and faces big decisions - M...</td>\n",
       "      <td>The French president delivers a stark warning ...</td>\n",
       "      <td>BBC</td>\n",
       "      <td>https://www.bbc.co.uk/news/world-europe-68898887</td>\n",
       "      <td>2024-04-25 14:51:15+00</td>\n",
       "      <td>2024-04-26 20:03:00.672106+00</td>\n",
       "    </tr>\n",
       "    <tr>\n",
       "      <th>4</th>\n",
       "      <td>733f744b006fb13033d264efcaf8edad</td>\n",
       "      <td>Prosecutors ask for halt to case against Spain...</td>\n",
       "      <td>Pedro Sánchez is deciding whether to resign af...</td>\n",
       "      <td>BBC</td>\n",
       "      <td>https://www.bbc.co.uk/news/world-europe-68895727</td>\n",
       "      <td>2024-04-25 13:07:42+00</td>\n",
       "      <td>2024-04-26 20:03:00.682205+00</td>\n",
       "    </tr>\n",
       "  </tbody>\n",
       "</table>\n",
       "</div>"
      ],
      "text/plain": [
       "                               guid  \\\n",
       "0  e3dc5caa18f9a16d7edcc09f8d5c2bb4   \n",
       "1  297b7152cd95e80dd200a8e1997e10d9   \n",
       "2  170bd18d1635c44b9339bdbaf1e62123   \n",
       "3  e696224ac208878a5cec8bdc9f97c632   \n",
       "4  733f744b006fb13033d264efcaf8edad   \n",
       "\n",
       "                                               title  \\\n",
       "0  Harvey Weinstein's 2020 rape conviction overtu...   \n",
       "1  Police and activists clash on Atlanta campus a...   \n",
       "2  Haiti PM resigns as transitional council sworn in   \n",
       "3  Europe risks dying and faces big decisions - M...   \n",
       "4  Prosecutors ask for halt to case against Spain...   \n",
       "\n",
       "                                         description venue  \\\n",
       "0  Victims group describes the New York appeal co...   BBC   \n",
       "1  Meanwhile, hundreds of students march in Washi...   BBC   \n",
       "2  The council will try to restore order and form...   BBC   \n",
       "3  The French president delivers a stark warning ...   BBC   \n",
       "4  Pedro Sánchez is deciding whether to resign af...   BBC   \n",
       "\n",
       "                                                 url            published_at  \\\n",
       "0  https://www.bbc.co.uk/news/world-us-canada-688...  2024-04-25 18:24:04+00   \n",
       "1  https://www.bbc.co.uk/news/live/world-us-canad...  2024-04-25 13:40:25+00   \n",
       "2  https://www.bbc.co.uk/news/world-latin-america...  2024-04-25 18:11:02+00   \n",
       "3   https://www.bbc.co.uk/news/world-europe-68898887  2024-04-25 14:51:15+00   \n",
       "4   https://www.bbc.co.uk/news/world-europe-68895727  2024-04-25 13:07:42+00   \n",
       "\n",
       "                      updated_at  \n",
       "0  2024-04-26 20:03:00.628113+00  \n",
       "1  2024-04-26 20:03:00.654819+00  \n",
       "2  2024-04-26 20:03:00.663393+00  \n",
       "3  2024-04-26 20:03:00.672106+00  \n",
       "4  2024-04-26 20:03:00.682205+00  "
      ]
     },
     "execution_count": 9,
     "metadata": {},
     "output_type": "execute_result"
    }
   ],
   "source": [
    "df.head()"
   ]
  },
  {
   "cell_type": "code",
   "execution_count": 5,
   "id": "17056cbc",
   "metadata": {},
   "outputs": [
    {
     "data": {
      "text/plain": [
       "guid            object\n",
       "title           object\n",
       "description     object\n",
       "venue           object\n",
       "url             object\n",
       "published_at    object\n",
       "updated_at      object\n",
       "dtype: object"
      ]
     },
     "execution_count": 5,
     "metadata": {},
     "output_type": "execute_result"
    }
   ],
   "source": [
    "df.dtypes"
   ]
  },
  {
   "cell_type": "code",
   "execution_count": 7,
   "id": "d4037eff",
   "metadata": {},
   "outputs": [
    {
     "data": {
      "text/html": [
       "<div>\n",
       "<style scoped>\n",
       "    .dataframe tbody tr th:only-of-type {\n",
       "        vertical-align: middle;\n",
       "    }\n",
       "\n",
       "    .dataframe tbody tr th {\n",
       "        vertical-align: top;\n",
       "    }\n",
       "\n",
       "    .dataframe thead th {\n",
       "        text-align: right;\n",
       "    }\n",
       "</style>\n",
       "<table border=\"1\" class=\"dataframe\">\n",
       "  <thead>\n",
       "    <tr style=\"text-align: right;\">\n",
       "      <th></th>\n",
       "      <th>count</th>\n",
       "      <th>unique</th>\n",
       "      <th>top</th>\n",
       "      <th>freq</th>\n",
       "    </tr>\n",
       "  </thead>\n",
       "  <tbody>\n",
       "    <tr>\n",
       "      <th>guid</th>\n",
       "      <td>870</td>\n",
       "      <td>870</td>\n",
       "      <td>e3dc5caa18f9a16d7edcc09f8d5c2bb4</td>\n",
       "      <td>1</td>\n",
       "    </tr>\n",
       "    <tr>\n",
       "      <th>title</th>\n",
       "      <td>870</td>\n",
       "      <td>841</td>\n",
       "      <td>JPMorgan CEO Jamie Dimon Gives a Soft Landing ...</td>\n",
       "      <td>3</td>\n",
       "    </tr>\n",
       "    <tr>\n",
       "      <th>description</th>\n",
       "      <td>870</td>\n",
       "      <td>845</td>\n",
       "      <td>The Guardian’s picture editors select photogra...</td>\n",
       "      <td>3</td>\n",
       "    </tr>\n",
       "    <tr>\n",
       "      <th>venue</th>\n",
       "      <td>870</td>\n",
       "      <td>12</td>\n",
       "      <td>The Guardian</td>\n",
       "      <td>301</td>\n",
       "    </tr>\n",
       "    <tr>\n",
       "      <th>url</th>\n",
       "      <td>870</td>\n",
       "      <td>851</td>\n",
       "      <td>https://www.wsj.com/world/europe/u-k-charges-b...</td>\n",
       "      <td>2</td>\n",
       "    </tr>\n",
       "    <tr>\n",
       "      <th>published_at</th>\n",
       "      <td>870</td>\n",
       "      <td>783</td>\n",
       "      <td>2024-04-27 04:01:00+00</td>\n",
       "      <td>15</td>\n",
       "    </tr>\n",
       "    <tr>\n",
       "      <th>updated_at</th>\n",
       "      <td>870</td>\n",
       "      <td>870</td>\n",
       "      <td>2024-04-26 20:03:00.628113+00</td>\n",
       "      <td>1</td>\n",
       "    </tr>\n",
       "  </tbody>\n",
       "</table>\n",
       "</div>"
      ],
      "text/plain": [
       "             count unique                                                top  \\\n",
       "guid           870    870                   e3dc5caa18f9a16d7edcc09f8d5c2bb4   \n",
       "title          870    841  JPMorgan CEO Jamie Dimon Gives a Soft Landing ...   \n",
       "description    870    845  The Guardian’s picture editors select photogra...   \n",
       "venue          870     12                                       The Guardian   \n",
       "url            870    851  https://www.wsj.com/world/europe/u-k-charges-b...   \n",
       "published_at   870    783                             2024-04-27 04:01:00+00   \n",
       "updated_at     870    870                      2024-04-26 20:03:00.628113+00   \n",
       "\n",
       "             freq  \n",
       "guid            1  \n",
       "title           3  \n",
       "description     3  \n",
       "venue         301  \n",
       "url             2  \n",
       "published_at   15  \n",
       "updated_at      1  "
      ]
     },
     "execution_count": 7,
     "metadata": {},
     "output_type": "execute_result"
    }
   ],
   "source": [
    "df.describe().T"
   ]
  },
  {
   "cell_type": "code",
   "execution_count": 8,
   "id": "98949127",
   "metadata": {},
   "outputs": [
    {
     "data": {
      "text/plain": [
       "array(['BBC', 'NYT', 'El Pais', 'France24', 'WSJ', 'News.com.au', 'RT',\n",
       "       'The Guardian', 'Al Jazeera', 'Times of India', 'Washington Post',\n",
       "       'The Economist'], dtype=object)"
      ]
     },
     "execution_count": 8,
     "metadata": {},
     "output_type": "execute_result"
    }
   ],
   "source": [
    "df['venue'].unique()"
   ]
  },
  {
   "cell_type": "code",
   "execution_count": null,
   "id": "170fa5b3",
   "metadata": {},
   "outputs": [],
   "source": []
  }
 ],
 "metadata": {
  "kernelspec": {
   "display_name": ".venv",
   "language": "python",
   "name": "python3"
  },
  "language_info": {
   "codemirror_mode": {
    "name": "ipython",
    "version": 3
   },
   "file_extension": ".py",
   "mimetype": "text/x-python",
   "name": "python",
   "nbconvert_exporter": "python",
   "pygments_lexer": "ipython3",
   "version": "3.13.7"
  }
 },
 "nbformat": 4,
 "nbformat_minor": 5
}
